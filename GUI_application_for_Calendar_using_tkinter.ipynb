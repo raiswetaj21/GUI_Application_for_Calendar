{
 "cells": [
  {
   "cell_type": "markdown",
   "metadata": {
    "id": "t6gp0LhsgwJz"
   },
   "source": [
    "# Introduction\n",
    "\n",
    "In Python, we can make GUIs using Tkinter. If you are very imaginative and creative you can do amazing stuff with Tkinter. Here, we will make a Python Calendar GUI application using Tkinter. In this app, the user has to enter the year for which he wants to view the calendar, and then the calendar will appear."
   ]
  },
  {
   "cell_type": "code",
   "execution_count": 1,
   "metadata": {
    "colab": {
     "base_uri": "https://localhost:8080/"
    },
    "id": "qPTOGyhvgNsJ",
    "outputId": "0e3c1b74-53d6-42cc-d241-7d38c5e81b96"
   },
   "outputs": [
    {
     "name": "stdout",
     "output_type": "stream",
     "text": [
      "Requirement already satisfied: tk in c:\\users\\swrai\\anaconda3\\lib\\site-packages (0.1.0)\n"
     ]
    }
   ],
   "source": [
    "!pip install tk\n",
    "\n",
    "# import all methods and classes from the tkinter\n",
    "from tkinter import *\n",
    "\n",
    "# import calendar module\n",
    "import calendar"
   ]
  },
  {
   "cell_type": "code",
   "execution_count": 2,
   "metadata": {
    "id": "Z2w28heZhVhk"
   },
   "outputs": [],
   "source": [
    "# Function for showing the calendar of the given year\n",
    "\n",
    "def showCal() :\n",
    "\n",
    "    # create a GUI window\n",
    "    new_gui = Tk()\n",
    "\n",
    "    # set the background colour of GUI window\n",
    "    new_gui.config(background = \"white\")\n",
    "\n",
    "    # set the name of tkinter GUI window\n",
    "    new_gui.title(\"CALENDAR\")\n",
    "\n",
    "    # set the configuration of GUI window\n",
    "    new_gui.geometry(\"550x600\")\n",
    "\n",
    "    # get method returns current text as string\n",
    "    fetch_year = int(year_field.get())\n",
    "\n",
    "    # calendar method of calendar module return the calendar of the given year\n",
    "    cal_content = calendar.calendar(fetch_year)\n",
    "\n",
    "    # create a label for showing the content of the calendar\n",
    "    cal_year = Label(new_gui, text = cal_content, font = \"Consolas 10 bold\")\n",
    "\n",
    "    # grid method is used for placing the widgets at respective positions in a table like structure\n",
    "    cal_year.grid(row = 5, column = 1, padx = 20)\n",
    "\n",
    "    # start the GUI\n",
    "    new_gui.mainloop()"
   ]
  },
  {
   "cell_type": "markdown",
   "metadata": {
    "id": "KfHMGKZLjC5f"
   },
   "source": [
    "### Explanation of showCal() function:\n",
    "\n",
    "- showCal function is displaying the calendar. \n",
    "- You enter a year in the search box and when enter is pressed, how the calendar should be displayed is managed here.\n",
    "- You set the background color which is grey here and can be changed in code as per your need.\n",
    "- You also set the dimension of the calendar which is 550×600 here.\n",
    "- Then you ask for input year in integer form.\n",
    "- Once the user enters the year calendar content is fetched from the calendar module of python by passing the year as an argument."
   ]
  },
  {
   "cell_type": "code",
   "execution_count": 3,
   "metadata": {
    "id": "c2jC2ZWGi5u1"
   },
   "outputs": [],
   "source": [
    "# Driver Code\n",
    "\n",
    "if __name__ == \"__main__\" :\n",
    "\n",
    "    # create a GUI window\n",
    "    gui = Tk()\n",
    "\n",
    "    # set the background colour of GUI window\n",
    "    gui.config(background = \"white\")\n",
    "\n",
    "    # set the name of tkinter GUI window\n",
    "    gui.title(\"CALENDAR\")\n",
    "\n",
    "    # set the configuration of GUI window\n",
    "    gui.geometry(\"250x150\")\n",
    "\n",
    "    # create a CALENDAR : label with specified font and size\n",
    "    cal = Label(gui, text = \"CALENDAR\", bg = \"dark gray\", font = (\"times\", 28, 'bold'))\n",
    "\n",
    "    # create a Enter Year : label to receive input number\n",
    "    year = Label(gui, text = \"Enter Year\", bg = \"light green\")\n",
    "\n",
    "    # create a text entry box for filling or typing the information.\n",
    "    year_field = Entry(gui)\n",
    "\n",
    "    # create a Show Calendar Button and attach it to the showCal function\n",
    "    Show = Button(gui, text = \"Show Calendar\", fg = \"Black\", bg = \"Red\", command = showCal)\n",
    "\n",
    "    # grid method is used for placing the widgets at respective positions in a table like structure\n",
    "    cal.grid(row = 1, column = 1)\n",
    "    year.grid(row = 2, column = 1)\n",
    "    year_field.grid(row = 3, column = 1)\n",
    "    Show.grid(row = 4, column = 1)\n",
    "\n",
    "    # start the GUI\n",
    "    gui.mainloop()"
   ]
  },
  {
   "cell_type": "markdown",
   "metadata": {
    "id": "lrFZ3q1urPbL"
   },
   "source": [
    "### Explanation of the Driver Code:\n",
    "\n",
    "- In the driver code, firstly we are giving background color to the left part of the screen(as shown in the image below).\n",
    "- Since it is a small window to give input year so we set its dimension as 250×150.\n",
    "- In the button line below year_field, we call showCalendar function that we made above. This function shows us the full calendar for an input year.\n",
    "- Now, we need to adjust the widgets in the calendar and for that we define the location in the grid for everything. You can play by changing grid row and column parameters to explore more."
   ]
  }
 ],
 "metadata": {
  "colab": {
   "collapsed_sections": [],
   "name": "GUI application for Calendar using tkinter.ipynb",
   "provenance": []
  },
  "kernelspec": {
   "display_name": "Python 3",
   "language": "python",
   "name": "python3"
  },
  "language_info": {
   "codemirror_mode": {
    "name": "ipython",
    "version": 3
   },
   "file_extension": ".py",
   "mimetype": "text/x-python",
   "name": "python",
   "nbconvert_exporter": "python",
   "pygments_lexer": "ipython3",
   "version": "3.8.8"
  }
 },
 "nbformat": 4,
 "nbformat_minor": 1
}
